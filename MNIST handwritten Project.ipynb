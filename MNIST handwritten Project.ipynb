{
 "cells": [
  {
   "cell_type": "markdown",
   "id": "819cb32b-e012-4068-807f-2312709beeea",
   "metadata": {},
   "source": [
    "# MNIST-Project-Using-ANN\n",
    "## Introduction\n",
    "\n",
    "The MNIST (Modified National Institute of Standards and Technology) dataset from [kaggle](https://www.kaggle.com/datasets/oddrationale/mnist-in-csv/data) is one of the most widely used benchmarks in machine learning for image classification tasks. It consists of 70,000 grayscale images of handwritten digits (0-9), with 60,000 images in the training set and 10,000 images in the test set. Each image is 28x28 pixels in size, making it a relatively simple dataset for digit recognition tasks. The dataset serves as a foundational problem for training neural networks, enabling models to learn how to recognize and classify handwritten digits.\n",
    "\n",
    "## Problem Statement\n",
    "\n",
    "The goal of this project is to build a simple Artificial Neural Network (ANN) model that can accurately classify handwritten digits from the MNIST dataset. Given the complexity of the human task of recognizing digits with varying handwriting styles, an ANN will be trained to automate this classification process. By using a basic neural network architecture, the project will demonstrate how even simple models can achieve high accuracy on image classification tasks with relatively low computational complexity.\n",
    "Here’s a fun, simple guide for what to include in your README file for the MNIST handwritten digit classification project:"
   ]
  },
  {
   "cell_type": "markdown",
   "id": "16f03d28-cb90-4072-bbaf-9d7892428af7",
   "metadata": {},
   "source": [
    "## Data Collection"
   ]
  },
  {
   "cell_type": "code",
   "execution_count": 1,
   "id": "35f05139-c5ef-4b07-8b8d-779d49dc0400",
   "metadata": {},
   "outputs": [],
   "source": [
    "# Import the neccessary libraries\n",
    "import pandas as pd\n",
    "import numpy as np\n",
    "import matplotlib.pyplot as plt\n",
    "\n",
    "import torch.nn as nn\n",
    "import torch\n",
    "from torch.utils.data import TensorDataset, DataLoader, random_split\n",
    "from torchmetrics import Accuracy"
   ]
  },
  {
   "cell_type": "code",
   "execution_count": 2,
   "id": "c555aafc-99dc-4b17-b05b-c50fce8ab462",
   "metadata": {},
   "outputs": [
    {
     "data": {
      "text/html": [
       "<div>\n",
       "<style scoped>\n",
       "    .dataframe tbody tr th:only-of-type {\n",
       "        vertical-align: middle;\n",
       "    }\n",
       "\n",
       "    .dataframe tbody tr th {\n",
       "        vertical-align: top;\n",
       "    }\n",
       "\n",
       "    .dataframe thead th {\n",
       "        text-align: right;\n",
       "    }\n",
       "</style>\n",
       "<table border=\"1\" class=\"dataframe\">\n",
       "  <thead>\n",
       "    <tr style=\"text-align: right;\">\n",
       "      <th></th>\n",
       "      <th>label</th>\n",
       "      <th>1x1</th>\n",
       "      <th>1x2</th>\n",
       "      <th>1x3</th>\n",
       "      <th>1x4</th>\n",
       "      <th>1x5</th>\n",
       "      <th>1x6</th>\n",
       "      <th>1x7</th>\n",
       "      <th>1x8</th>\n",
       "      <th>1x9</th>\n",
       "      <th>...</th>\n",
       "      <th>28x19</th>\n",
       "      <th>28x20</th>\n",
       "      <th>28x21</th>\n",
       "      <th>28x22</th>\n",
       "      <th>28x23</th>\n",
       "      <th>28x24</th>\n",
       "      <th>28x25</th>\n",
       "      <th>28x26</th>\n",
       "      <th>28x27</th>\n",
       "      <th>28x28</th>\n",
       "    </tr>\n",
       "  </thead>\n",
       "  <tbody>\n",
       "    <tr>\n",
       "      <th>0</th>\n",
       "      <td>5</td>\n",
       "      <td>0</td>\n",
       "      <td>0</td>\n",
       "      <td>0</td>\n",
       "      <td>0</td>\n",
       "      <td>0</td>\n",
       "      <td>0</td>\n",
       "      <td>0</td>\n",
       "      <td>0</td>\n",
       "      <td>0</td>\n",
       "      <td>...</td>\n",
       "      <td>0</td>\n",
       "      <td>0</td>\n",
       "      <td>0</td>\n",
       "      <td>0</td>\n",
       "      <td>0</td>\n",
       "      <td>0</td>\n",
       "      <td>0</td>\n",
       "      <td>0</td>\n",
       "      <td>0</td>\n",
       "      <td>0</td>\n",
       "    </tr>\n",
       "    <tr>\n",
       "      <th>1</th>\n",
       "      <td>0</td>\n",
       "      <td>0</td>\n",
       "      <td>0</td>\n",
       "      <td>0</td>\n",
       "      <td>0</td>\n",
       "      <td>0</td>\n",
       "      <td>0</td>\n",
       "      <td>0</td>\n",
       "      <td>0</td>\n",
       "      <td>0</td>\n",
       "      <td>...</td>\n",
       "      <td>0</td>\n",
       "      <td>0</td>\n",
       "      <td>0</td>\n",
       "      <td>0</td>\n",
       "      <td>0</td>\n",
       "      <td>0</td>\n",
       "      <td>0</td>\n",
       "      <td>0</td>\n",
       "      <td>0</td>\n",
       "      <td>0</td>\n",
       "    </tr>\n",
       "    <tr>\n",
       "      <th>2</th>\n",
       "      <td>4</td>\n",
       "      <td>0</td>\n",
       "      <td>0</td>\n",
       "      <td>0</td>\n",
       "      <td>0</td>\n",
       "      <td>0</td>\n",
       "      <td>0</td>\n",
       "      <td>0</td>\n",
       "      <td>0</td>\n",
       "      <td>0</td>\n",
       "      <td>...</td>\n",
       "      <td>0</td>\n",
       "      <td>0</td>\n",
       "      <td>0</td>\n",
       "      <td>0</td>\n",
       "      <td>0</td>\n",
       "      <td>0</td>\n",
       "      <td>0</td>\n",
       "      <td>0</td>\n",
       "      <td>0</td>\n",
       "      <td>0</td>\n",
       "    </tr>\n",
       "    <tr>\n",
       "      <th>3</th>\n",
       "      <td>1</td>\n",
       "      <td>0</td>\n",
       "      <td>0</td>\n",
       "      <td>0</td>\n",
       "      <td>0</td>\n",
       "      <td>0</td>\n",
       "      <td>0</td>\n",
       "      <td>0</td>\n",
       "      <td>0</td>\n",
       "      <td>0</td>\n",
       "      <td>...</td>\n",
       "      <td>0</td>\n",
       "      <td>0</td>\n",
       "      <td>0</td>\n",
       "      <td>0</td>\n",
       "      <td>0</td>\n",
       "      <td>0</td>\n",
       "      <td>0</td>\n",
       "      <td>0</td>\n",
       "      <td>0</td>\n",
       "      <td>0</td>\n",
       "    </tr>\n",
       "    <tr>\n",
       "      <th>4</th>\n",
       "      <td>9</td>\n",
       "      <td>0</td>\n",
       "      <td>0</td>\n",
       "      <td>0</td>\n",
       "      <td>0</td>\n",
       "      <td>0</td>\n",
       "      <td>0</td>\n",
       "      <td>0</td>\n",
       "      <td>0</td>\n",
       "      <td>0</td>\n",
       "      <td>...</td>\n",
       "      <td>0</td>\n",
       "      <td>0</td>\n",
       "      <td>0</td>\n",
       "      <td>0</td>\n",
       "      <td>0</td>\n",
       "      <td>0</td>\n",
       "      <td>0</td>\n",
       "      <td>0</td>\n",
       "      <td>0</td>\n",
       "      <td>0</td>\n",
       "    </tr>\n",
       "  </tbody>\n",
       "</table>\n",
       "<p>5 rows × 785 columns</p>\n",
       "</div>"
      ],
      "text/plain": [
       "   label  1x1  1x2  1x3  1x4  1x5  1x6  1x7  1x8  1x9  ...  28x19  28x20  \\\n",
       "0      5    0    0    0    0    0    0    0    0    0  ...      0      0   \n",
       "1      0    0    0    0    0    0    0    0    0    0  ...      0      0   \n",
       "2      4    0    0    0    0    0    0    0    0    0  ...      0      0   \n",
       "3      1    0    0    0    0    0    0    0    0    0  ...      0      0   \n",
       "4      9    0    0    0    0    0    0    0    0    0  ...      0      0   \n",
       "\n",
       "   28x21  28x22  28x23  28x24  28x25  28x26  28x27  28x28  \n",
       "0      0      0      0      0      0      0      0      0  \n",
       "1      0      0      0      0      0      0      0      0  \n",
       "2      0      0      0      0      0      0      0      0  \n",
       "3      0      0      0      0      0      0      0      0  \n",
       "4      0      0      0      0      0      0      0      0  \n",
       "\n",
       "[5 rows x 785 columns]"
      ]
     },
     "execution_count": 2,
     "metadata": {},
     "output_type": "execute_result"
    }
   ],
   "source": [
    "#Read Data\n",
    "df = pd.read_csv(\"mnist_train.csv\")\n",
    "\n",
    "df.head()"
   ]
  },
  {
   "cell_type": "markdown",
   "id": "992682c6-43c3-4815-a8c0-61f054f85074",
   "metadata": {},
   "source": [
    "## Exploratory Data Analysis(EDA)"
   ]
  },
  {
   "cell_type": "code",
   "execution_count": 3,
   "id": "4b1bdaa7-93ee-4582-8cb0-8b02a7db1214",
   "metadata": {},
   "outputs": [
    {
     "name": "stdout",
     "output_type": "stream",
     "text": [
      "<class 'pandas.core.frame.DataFrame'>\n",
      "RangeIndex: 60000 entries, 0 to 59999\n",
      "Columns: 785 entries, label to 28x28\n",
      "dtypes: int64(785)\n",
      "memory usage: 359.3 MB\n"
     ]
    }
   ],
   "source": [
    "# Explore Data\n",
    "df.info()"
   ]
  },
  {
   "cell_type": "code",
   "execution_count": 5,
   "id": "694b484c-9e62-4d52-8c25-7120b4e4b0a3",
   "metadata": {},
   "outputs": [
    {
     "data": {
      "image/png": "[encoded data removed]",
      "text/plain": [
       "<Figure size 640x480 with 1 Axes>"
      ]
     },
     "metadata": {},
     "output_type": "display_data"
    }
   ],
   "source": [
    "# visualize a digit\n",
    "\n",
    "image_data = df.drop(columns=\"label\").iloc[10].values  # Extract the pixel values as a numpy array\n",
    "image_reshaped = image_data.reshape(28, 28)  # Reshape the 1D array (784,) to 2D (28, 28)\n",
    "\n",
    "# Plot the reshaped image\n",
    "plt.imshow(image_reshaped, cmap=\"gray\")\n",
    "plt.title('Digit Image')\n",
    "plt.axis('off')  # Turn off axis for cleaner visualization\n",
    "plt.show()\n"
   ]
  },
  {
   "cell_type": "markdown",
   "id": "438ca0b0-9461-42bf-8b90-afef073aaa43",
   "metadata": {},
   "source": [
    "## Split Data"
   ]
  },
  {
   "cell_type": "code",
   "execution_count": 4,
   "id": "c671c54d-e845-4f72-982f-13179ae92e27",
   "metadata": {},
   "outputs": [],
   "source": [
    "# Split Data into Features and Target\n",
    "features = torch.tensor(df.drop(columns=\"label\").to_numpy()).float()\n",
    "target = torch.tensor(df.label.to_numpy()).float()"
   ]
  },
  {
   "cell_type": "code",
   "execution_count": 6,
   "id": "0f6ed28b-b6ec-4bc1-a910-5c2ab7260f7e",
   "metadata": {},
   "outputs": [],
   "source": [
    "# Get the number of features and number of classes\n",
    "n_features = features.shape[1]\n",
    "n_classes = df.label.nunique()"
   ]
  },
  {
   "cell_type": "code",
   "execution_count": 7,
   "id": "0f0adb83-78cc-423b-a714-a34aca6b2503",
   "metadata": {},
   "outputs": [],
   "source": [
    "# Create a random number generator and set the seed to 42 for reproducibility.\n",
    "generator = torch.Generator().manual_seed(42)"
   ]
  },
  {
   "cell_type": "code",
   "execution_count": 8,
   "id": "b6c937ed-63d5-405b-83a1-23e5472a6a3f",
   "metadata": {},
   "outputs": [],
   "source": [
    "# Combine the features and target tensors into a dataset object (TensorDataset).\n",
    "dataset = TensorDataset(features, target)\n",
    "\n",
    "# Split the dataset into training, validation, and test sets in the ratio of 70%, 20%, and 10%, respectively.\n",
    "train_data, val_data, test_data = random_split(dataset, [0.7, 0.2, 0.1], generator=generator)"
   ]
  },
  {
   "cell_type": "code",
   "execution_count": 9,
   "id": "c633db45-efdf-45d1-ad10-a974d7d22e9f",
   "metadata": {},
   "outputs": [],
   "source": [
    "# Create a DataLoader for the training data.\n",
    "train_loader = DataLoader(train_data, batch_size=16, shuffle=True)\n",
    "\n",
    "# Create a DataLoader for the validation data.\n",
    "val_loader = DataLoader(val_data, batch_size=16, shuffle=True)\n",
    "\n",
    "# Create a DataLoader for the test data.\n",
    "test_loader = DataLoader(test_data, batch_size=16, shuffle=True)\n"
   ]
  },
  {
   "cell_type": "markdown",
   "id": "b3e2267e-1e79-4045-9008-f74443ad0b73",
   "metadata": {},
   "source": [
    "## Build Model"
   ]
  },
  {
   "cell_type": "code",
   "execution_count": 19,
   "id": "4a9a0a8a-659b-4926-b57e-03cf1e84bab8",
   "metadata": {},
   "outputs": [],
   "source": [
    "# Define a neural network model\n",
    "model = nn.Sequential(\n",
    "    nn.Linear(n_features, 64),\n",
    "    nn.ReLU(),\n",
    "    nn.Linear(64, 32),\n",
    "    nn.ReLU(),\n",
    "    nn.Dropout(p=0.5),\n",
    "    nn.Linear(32, n_classes),\n",
    "    nn.Softmax(dim=-1)\n",
    ")"
   ]
  },
  {
   "cell_type": "code",
   "execution_count": 11,
   "id": "633acf06-9058-46d2-8896-7354e9e2408d",
   "metadata": {},
   "outputs": [],
   "source": [
    "# Define the loss function for the model.\n",
    "criterion = nn.CrossEntropyLoss()"
   ]
  },
  {
   "cell_type": "code",
   "execution_count": 12,
   "id": "bb24cec1-2c4a-4d2e-94b6-7837f1835919",
   "metadata": {},
   "outputs": [],
   "source": [
    "# Initialize the Adam optimizer for the model's parameters.\n",
    "optimizer = torch.optim.Adam(model.parameters(), lr=0.001)"
   ]
  },
  {
   "cell_type": "code",
   "execution_count": 13,
   "id": "fb90c26d-1aa1-4df1-bdf6-21d9b2dc0b5e",
   "metadata": {},
   "outputs": [],
   "source": [
    "# Initialize the accuracy metric for evaluating model performance\n",
    "accuracy = Accuracy(task=\"multiclass\", num_classes=n_classes)"
   ]
  },
  {
   "cell_type": "markdown",
   "id": "efd0246c-bbc0-413d-93fb-3aa4cb40f799",
   "metadata": {},
   "source": [
    "## Train Model"
   ]
  },
  {
   "cell_type": "code",
   "execution_count": 14,
   "id": "939755ef-be49-4d24-9486-ad08d3944dc3",
   "metadata": {
    "scrolled": true
   },
   "outputs": [
    {
     "name": "stdout",
     "output_type": "stream",
     "text": [
      "Epoch 1 is done with train_loss of 1.8947 and val_loss: 1.7401; val accuracy:0.72\n",
      "Epoch 2 is done with train_loss of 1.7442 and val_loss: 1.6745; val accuracy:0.75\n",
      "Epoch 3 is done with train_loss of 1.7147 and val_loss: 1.6734; val accuracy:0.76\n",
      "Epoch 4 is done with train_loss of 1.6969 and val_loss: 1.6218; val accuracy:0.78\n",
      "Epoch 5 is done with train_loss of 1.6648 and val_loss: 1.6074; val accuracy:0.80\n",
      "Epoch 6 is done with train_loss of 1.6396 and val_loss: 1.5939; val accuracy:0.81\n",
      "Epoch 7 is done with train_loss of 1.6347 and val_loss: 1.6022; val accuracy:0.82\n",
      "Epoch 8 is done with train_loss of 1.6271 and val_loss: 1.5890; val accuracy:0.82\n",
      "Epoch 9 is done with train_loss of 1.6263 and val_loss: 1.5872; val accuracy:0.83\n",
      "Epoch 10 is done with train_loss of 1.6144 and val_loss: 1.5676; val accuracy:0.84\n",
      "Epoch 11 is done with train_loss of 1.6115 and val_loss: 1.5709; val accuracy:0.84\n",
      "Epoch 12 is done with train_loss of 1.6120 and val_loss: 1.5749; val accuracy:0.84\n",
      "Epoch 13 is done with train_loss of 1.6016 and val_loss: 1.6018; val accuracy:0.85\n",
      "Epoch 14 is done with train_loss of 1.6108 and val_loss: 1.5667; val accuracy:0.85\n",
      "Epoch 15 is done with train_loss of 1.5960 and val_loss: 1.5683; val accuracy:0.85\n",
      "Epoch 16 is done with train_loss of 1.5989 and val_loss: 1.5557; val accuracy:0.86\n",
      "Epoch 17 is done with train_loss of 1.6113 and val_loss: 1.5633; val accuracy:0.86\n",
      "Epoch 18 is done with train_loss of 1.5871 and val_loss: 1.5538; val accuracy:0.86\n",
      "Epoch 19 is done with train_loss of 1.5832 and val_loss: 1.5615; val accuracy:0.86\n",
      "Epoch 20 is done with train_loss of 1.5920 and val_loss: 1.5721; val accuracy:0.86\n",
      "Epoch 21 is done with train_loss of 1.5976 and val_loss: 1.5628; val accuracy:0.87\n",
      "Epoch 22 is done with train_loss of 1.5793 and val_loss: 1.5616; val accuracy:0.87\n",
      "Epoch 23 is done with train_loss of 1.5845 and val_loss: 1.5684; val accuracy:0.87\n",
      "Epoch 24 is done with train_loss of 1.5841 and val_loss: 1.5501; val accuracy:0.87\n",
      "Epoch 25 is done with train_loss of 1.5889 and val_loss: 1.5557; val accuracy:0.87\n",
      "Epoch 26 is done with train_loss of 1.5928 and val_loss: 1.5582; val accuracy:0.87\n",
      "Epoch 27 is done with train_loss of 1.5888 and val_loss: 1.5605; val accuracy:0.87\n",
      "Epoch 28 is done with train_loss of 1.5953 and val_loss: 1.5533; val accuracy:0.87\n",
      "Epoch 29 is done with train_loss of 1.5910 and val_loss: 1.5696; val accuracy:0.88\n",
      "Epoch 30 is done with train_loss of 1.5911 and val_loss: 1.5526; val accuracy:0.88\n",
      "Epoch 31 is done with train_loss of 1.5866 and val_loss: 1.5697; val accuracy:0.88\n",
      "Epoch 32 is done with train_loss of 1.5962 and val_loss: 1.5562; val accuracy:0.88\n",
      "Epoch 33 is done with train_loss of 1.5864 and val_loss: 1.5605; val accuracy:0.88\n",
      "Epoch 34 is done with train_loss of 1.5990 and val_loss: 1.5599; val accuracy:0.88\n",
      "Epoch 35 is done with train_loss of 1.5862 and val_loss: 1.5655; val accuracy:0.88\n",
      "Epoch 36 is done with train_loss of 1.5807 and val_loss: 1.5468; val accuracy:0.88\n",
      "Epoch 37 is done with train_loss of 1.5776 and val_loss: 1.5555; val accuracy:0.88\n",
      "Epoch 38 is done with train_loss of 1.5817 and val_loss: 1.5594; val accuracy:0.88\n",
      "Epoch 39 is done with train_loss of 1.5767 and val_loss: 1.5606; val accuracy:0.88\n",
      "Epoch 40 is done with train_loss of 1.5891 and val_loss: 1.5671; val accuracy:0.88\n",
      "Epoch 41 is done with train_loss of 1.5850 and val_loss: 1.5501; val accuracy:0.88\n",
      "Epoch 42 is done with train_loss of 1.5859 and val_loss: 1.5517; val accuracy:0.88\n",
      "Epoch 43 is done with train_loss of 1.5831 and val_loss: 1.5501; val accuracy:0.88\n",
      "Epoch 44 is done with train_loss of 1.5776 and val_loss: 1.5569; val accuracy:0.88\n",
      "Epoch 45 is done with train_loss of 1.5839 and val_loss: 1.5505; val accuracy:0.89\n",
      "Epoch 46 is done with train_loss of 1.5830 and val_loss: 1.5591; val accuracy:0.89\n",
      "Epoch 47 is done with train_loss of 1.5731 and val_loss: 1.5467; val accuracy:0.89\n",
      "Epoch 48 is done with train_loss of 1.5802 and val_loss: 1.5641; val accuracy:0.89\n",
      "Epoch 49 is done with train_loss of 1.5870 and val_loss: 1.5550; val accuracy:0.89\n",
      "Epoch 50 is done with train_loss of 1.5853 and val_loss: 1.5747; val accuracy:0.89\n",
      "Epoch 51 is done with train_loss of 1.5842 and val_loss: 1.5670; val accuracy:0.89\n",
      "Epoch 52 is done with train_loss of 1.5903 and val_loss: 1.5508; val accuracy:0.89\n",
      "Epoch 53 is done with train_loss of 1.5877 and val_loss: 1.5504; val accuracy:0.89\n",
      "Epoch 54 is done with train_loss of 1.5846 and val_loss: 1.5669; val accuracy:0.89\n",
      "Epoch 55 is done with train_loss of 1.5975 and val_loss: 1.5623; val accuracy:0.89\n",
      "Epoch 56 is done with train_loss of 1.5987 and val_loss: 1.5533; val accuracy:0.89\n",
      "Epoch 57 is done with train_loss of 1.5818 and val_loss: 1.5539; val accuracy:0.89\n",
      "Epoch 58 is done with train_loss of 1.5971 and val_loss: 1.5890; val accuracy:0.89\n",
      "Epoch 59 is done with train_loss of 1.5908 and val_loss: 1.5544; val accuracy:0.89\n",
      "Epoch 60 is done with train_loss of 1.5954 and val_loss: 1.5640; val accuracy:0.89\n",
      "Epoch 61 is done with train_loss of 1.5823 and val_loss: 1.5687; val accuracy:0.89\n",
      "Epoch 62 is done with train_loss of 1.5863 and val_loss: 1.5501; val accuracy:0.89\n",
      "Epoch 63 is done with train_loss of 1.5761 and val_loss: 1.5507; val accuracy:0.89\n",
      "Epoch 64 is done with train_loss of 1.5852 and val_loss: 1.5468; val accuracy:0.89\n",
      "Epoch 65 is done with train_loss of 1.5791 and val_loss: 1.5479; val accuracy:0.89\n",
      "Epoch 66 is done with train_loss of 1.5829 and val_loss: 1.5522; val accuracy:0.89\n",
      "Epoch 67 is done with train_loss of 1.5881 and val_loss: 1.5565; val accuracy:0.89\n",
      "Epoch 68 is done with train_loss of 1.5836 and val_loss: 1.5449; val accuracy:0.89\n",
      "Epoch 69 is done with train_loss of 1.5720 and val_loss: 1.5434; val accuracy:0.89\n",
      "Epoch 70 is done with train_loss of 1.5808 and val_loss: 1.5489; val accuracy:0.89\n",
      "Epoch 71 is done with train_loss of 1.5872 and val_loss: 1.5462; val accuracy:0.89\n",
      "Epoch 72 is done with train_loss of 1.5721 and val_loss: 1.5418; val accuracy:0.89\n",
      "Epoch 73 is done with train_loss of 1.5820 and val_loss: 1.5538; val accuracy:0.89\n",
      "Epoch 74 is done with train_loss of 1.5880 and val_loss: 1.5563; val accuracy:0.89\n",
      "Epoch 75 is done with train_loss of 1.5733 and val_loss: 1.5404; val accuracy:0.89\n",
      "Epoch 76 is done with train_loss of 1.5717 and val_loss: 1.5470; val accuracy:0.89\n",
      "Epoch 77 is done with train_loss of 1.5706 and val_loss: 1.5463; val accuracy:0.89\n",
      "Epoch 78 is done with train_loss of 1.5722 and val_loss: 1.5532; val accuracy:0.89\n",
      "Epoch 79 is done with train_loss of 1.5760 and val_loss: 1.5454; val accuracy:0.89\n",
      "Epoch 80 is done with train_loss of 1.5745 and val_loss: 1.5421; val accuracy:0.89\n",
      "Epoch 81 is done with train_loss of 1.5738 and val_loss: 1.5480; val accuracy:0.90\n",
      "Epoch 82 is done with train_loss of 1.5846 and val_loss: 1.5602; val accuracy:0.90\n",
      "Epoch 83 is done with train_loss of 1.5749 and val_loss: 1.5487; val accuracy:0.90\n",
      "Epoch 84 is done with train_loss of 1.5697 and val_loss: 1.5485; val accuracy:0.90\n",
      "Epoch 85 is done with train_loss of 1.5953 and val_loss: 1.5595; val accuracy:0.90\n",
      "Epoch 86 is done with train_loss of 1.5806 and val_loss: 1.5625; val accuracy:0.90\n",
      "Epoch 87 is done with train_loss of 1.5815 and val_loss: 1.5528; val accuracy:0.90\n",
      "Epoch 88 is done with train_loss of 1.5827 and val_loss: 1.5572; val accuracy:0.90\n",
      "Epoch 89 is done with train_loss of 1.5816 and val_loss: 1.5556; val accuracy:0.90\n",
      "Epoch 90 is done with train_loss of 1.6020 and val_loss: 1.5606; val accuracy:0.90\n",
      "Epoch 91 is done with train_loss of 1.5777 and val_loss: 1.5495; val accuracy:0.90\n",
      "Epoch 92 is done with train_loss of 1.5881 and val_loss: 1.5658; val accuracy:0.90\n",
      "Epoch 93 is done with train_loss of 1.5853 and val_loss: 1.5529; val accuracy:0.90\n",
      "Epoch 94 is done with train_loss of 1.5725 and val_loss: 1.5483; val accuracy:0.90\n",
      "Epoch 95 is done with train_loss of 1.5672 and val_loss: 1.5483; val accuracy:0.90\n",
      "Epoch 96 is done with train_loss of 1.5775 and val_loss: 1.5557; val accuracy:0.90\n",
      "Epoch 97 is done with train_loss of 1.5691 and val_loss: 1.5425; val accuracy:0.90\n",
      "Epoch 98 is done with train_loss of 1.5697 and val_loss: 1.5575; val accuracy:0.90\n",
      "Epoch 99 is done with train_loss of 1.5775 and val_loss: 1.5522; val accuracy:0.90\n",
      "Epoch 100 is done with train_loss of 1.5823 and val_loss: 1.5560; val accuracy:0.90\n"
     ]
    }
   ],
   "source": [
    "# Lists to store the training and validation losses, and validation accuracy for each epoch\n",
    "train_losses = []\n",
    "val_losses = []\n",
    "val_acc = []\n",
    "\n",
    "# Loop through each epoch for training the model (100 epochs)\n",
    "for epoch in range(100):\n",
    "    train_loss = 0.0  # Initialize the training loss for the current epoch\n",
    "    \n",
    "    # Iterate through the training data in batches\n",
    "    for batch in train_loader:\n",
    "        features, target = batch  # Unpack the batch into features and target labels\n",
    "        optimizer.zero_grad()  # Clear the gradients from the previous iteration\n",
    "        output = model(features)  # Forward pass: compute the model's predictions\n",
    "        loss = criterion(output, target.long())  # Compute the loss using the output and target\n",
    "        loss.backward()  # Backward pass: compute gradients\n",
    "        optimizer.step()  # Update the model parameters using the optimizer\n",
    "\n",
    "        train_loss += loss.item()  # Accumulate the training loss for this batch\n",
    "\n",
    "    avg_batch_loss = train_loss / len(train_loader)  # Calculate average loss for the epoch\n",
    "    train_losses.append(avg_batch_loss)  # Store the average training loss\n",
    "\n",
    "    model.eval()  # Set the model to evaluation mode\n",
    "    val_loss = 0.0  # Initialize the validation loss for the current epoch\n",
    "    \n",
    "    with torch.no_grad():  # Disable gradient calculation for validation to save memory\n",
    "        # Iterate through the validation data in batches\n",
    "        for val in val_loader:\n",
    "            X_val, y_val = val  # Unpack the validation batch into features and target labels\n",
    "            val_pred = model(X_val)  # Forward pass: compute predictions on the validation set\n",
    "            loss_v = criterion(val_pred, y_val.long())  # Compute the validation loss\n",
    "            val_loss += loss_v.item()  # Accumulate the validation loss\n",
    "            \n",
    "            accuracy(val_pred, y_val.view(-1))  # Compute accuracy for the current validation batch\n",
    "            \n",
    "    val_accuracy = accuracy.compute()  # Calculate overall validation accuracy\n",
    "    avg_val_loss = val_loss / len(val_loader)  # Calculate average validation loss\n",
    "    val_losses.append(avg_val_loss)  # Store the average validation loss\n",
    "    val_acc.append(val_accuracy)  # Store the validation accuracy\n",
    "    \n",
    "    # Print the training and validation metrics for the current epoch\n",
    "    print(f\"Epoch {epoch+1} is done with train_loss of {avg_batch_loss:.4f} and val_loss: {avg_val_loss:.4f}; val accuracy:{val_accuracy:.2f}\")\n",
    "    \n",
    "    model.train()  # Set the model back to training mode for the next epoch\n"
   ]
  },
  {
   "cell_type": "markdown",
   "id": "61e055c2-80af-4418-bc11-44c898ba53d0",
   "metadata": {},
   "source": [
    "# Evaluate Model"
   ]
  },
  {
   "cell_type": "code",
   "execution_count": 20,
   "id": "94f3bff1-44c4-4d4b-a877-0b0476d8fd5a",
   "metadata": {},
   "outputs": [
    {
     "name": "stdout",
     "output_type": "stream",
     "text": [
      "Test Loss: 2.32; Test Accuracy: 89.36%\n"
     ]
    }
   ],
   "source": [
    "# Initialize the test loss to zero\n",
    "test_loss = 0.0\n",
    "\n",
    "# Set the model to evaluation mode to disable dropout and batch normalization\n",
    "model.eval()\n",
    "\n",
    "# Disable gradient calculation for efficiency since we are only testing\n",
    "with torch.no_grad():\n",
    "    # Iterate over the test data in batches\n",
    "    for data in test_loader:\n",
    "        X_test, y_test = data\n",
    "        \n",
    "        # Forward pass: compute the model output\n",
    "        output = model(X_test)\n",
    "        \n",
    "        # Compute the loss for the current batch using the criterion\n",
    "        loss_t = criterion(output, y_test.long())\n",
    "        \n",
    "        # Accumulate the loss over all batches\n",
    "        test_loss += loss_t\n",
    "        \n",
    "        # Compute the accuracy for the current batch\n",
    "        accuracy(output, y_test.view(-1))\n",
    "\n",
    "# Compute the overall test accuracy from the accumulated accuracy\n",
    "test_acc = accuracy.compute()\n",
    "\n",
    "# Calculate the average test loss by dividing the total loss by the number of batches\n",
    "avg_test_loss = test_loss / len(test_loader)\n",
    "\n",
    "# Print the average test loss and test accuracy as a percentage\n",
    "print(f\"Test Loss: {avg_test_loss:.2f}; Test Accuracy: {test_acc:.2%}\")\n"
   ]
  },
  {
   "cell_type": "markdown",
   "id": "d59d36e5-e0cd-4690-a9ee-59de83075a49",
   "metadata": {},
   "source": [
    "## Communicate result"
   ]
  },
  {
   "cell_type": "code",
   "execution_count": 21,
   "id": "8e174986-78fc-47d7-ae68-5b32db66f2c0",
   "metadata": {},
   "outputs": [
    {
     "data": {
      "image/png": "[encoded data removed]",
      "text/plain": [
       "<Figure size 1000x500 with 1 Axes>"
      ]
     },
     "metadata": {},
     "output_type": "display_data"
    }
   ],
   "source": [
    "# Plot the training and validation losses over the epochs\n",
    "plt.figure(figsize=(10, 5))\n",
    "plt.plot(train_losses, label='Training Loss')\n",
    "plt.plot(val_losses, label='Validation Loss')\n",
    "plt.title('Training and Validation Loss')\n",
    "plt.xlabel('Epochs')\n",
    "plt.ylabel('Loss')\n",
    "plt.legend();\n",
    "#plt.grid()\n",
    "plt.savefig(\"Train and Val loss Final.png\")"
   ]
  },
  {
   "cell_type": "code",
   "execution_count": 24,
   "id": "fa72d35b-8db6-4603-aa46-f9c8c654b0f4",
   "metadata": {},
   "outputs": [
    {
     "name": "stdout",
     "output_type": "stream",
     "text": [
      "Val Accuracy: 87.48%\n"
     ]
    }
   ],
   "source": [
    "# Compute the mean of the validation accuracies across all epochs.\n",
    "val_acc = np.mean(val_acc)\n",
    "\n",
    "print(F\"Val Accuracy: {val_acc:.2%}\")"
   ]
  },
  {
   "cell_type": "markdown",
   "id": "b92f6a3b-7e4e-4b17-898c-ed954b21ac53",
   "metadata": {},
   "source": [
    "## Save model"
   ]
  },
  {
   "cell_type": "code",
   "execution_count": 27,
   "id": "f998f437-217f-4d86-8ad2-8520653e722b",
   "metadata": {},
   "outputs": [],
   "source": [
    "# Save the model parameters to a file named 'model.pth'\n",
    "torch.save(model.state_dict(), 'model.pth')  "
   ]
  },
  {
   "cell_type": "code",
   "execution_count": null,
   "id": "713592d4-03ab-4f4f-8fa9-d18f5de250a9",
   "metadata": {
    "scrolled": true
   },
   "outputs": [],
   "source": [
    "# # # Plot the validation accuracy over the epochs\n",
    "# plt.figure(figsize=(8, 4))\n",
    "\n",
    "# # plt.plot(val_acc, label='Validation Accuracy', color='green')\n",
    "# plt.title('Validation Accuracy Over Epochs')\n",
    "# plt.xlabel('Epochs')\n",
    "# plt.ylabel('Accuracy (%)')\n",
    "# plt.legend()\n",
    "# plt.grid(True)\n",
    "\n",
    "# # Save the plot as an image file named \"Val Accuracy.png\"\n",
    "# plt.savefig(\"Val Accuracy.png\")\n"
   ]
  },
  {
   "cell_type": "code",
   "execution_count": null,
   "id": "2ac2dad5-d08a-4499-ae18-399fbeb3db5f",
   "metadata": {},
   "outputs": [],
   "source": []
  }
 ],
 "metadata": {
  "kernelspec": {
   "display_name": "Python 3 (ipykernel)",
   "language": "python",
   "name": "python3"
  },
  "language_info": {
   "codemirror_mode": {
    "name": "ipython",
    "version": 3
   },
   "file_extension": ".py",
   "mimetype": "text/x-python",
   "name": "python",
   "nbconvert_exporter": "python",
   "pygments_lexer": "ipython3",
   "version": "3.12.7"
  }
 },
 "nbformat": 4,
 "nbformat_minor": 5
}
